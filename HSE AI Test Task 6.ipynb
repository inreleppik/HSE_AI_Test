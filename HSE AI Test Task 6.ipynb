{
 "cells": [
  {
   "cell_type": "markdown",
   "id": "a8de4cde",
   "metadata": {},
   "source": [
    "### Подгрузка необходимых библиотек"
   ]
  },
  {
   "cell_type": "code",
   "execution_count": 1,
   "id": "d8cefda2",
   "metadata": {},
   "outputs": [],
   "source": [
    "import numpy as np\n",
    "import pandas as pd\n",
    "import matplotlib.pyplot as plt\n",
    "import seaborn as sns\n",
    "import requests\n",
    "import time \n",
    "import random\n",
    "from bs4 import BeautifulSoup\n",
    "from tqdm import tqdm\n",
    "import re"
   ]
  },
  {
   "cell_type": "markdown",
   "id": "59274c5b",
   "metadata": {},
   "source": [
    "## Часть 1. Парсинг"
   ]
  },
  {
   "cell_type": "markdown",
   "id": "c9918faf",
   "metadata": {},
   "source": [
    "### Парсер для ссылок на книги"
   ]
  },
  {
   "cell_type": "code",
   "execution_count": 2,
   "id": "6df0a4b7",
   "metadata": {},
   "outputs": [
    {
     "name": "stderr",
     "output_type": "stream",
     "text": [
      "Loading...: 100%|█████████████████████████████| 119/119 [02:01<00:00,  1.02s/it]\n"
     ]
    }
   ],
   "source": [
    "links = []\n",
    "basic_link = 'https://www.litres.ru'\n",
    "for i in tqdm(np.arange(1, 120), desc = 'Loading...'):\n",
    "    response = requests.get(f\"https://www.litres.ru/genre/programmirovanie-5272/?page={i}\")\n",
    "    html = response.content\n",
    "    soup = BeautifulSoup(html, 'html.parser')\n",
    "    basic_link = 'https://www.litres.ru'\n",
    "    obj = soup.find_all('div', attrs = {'class':'ArtInfo_wrapper__GoMsb'})\n",
    "    time.sleep(1)\n",
    "    for i in np.arange(len(obj)):\n",
    "        link = basic_link + obj[i].find('a').get('href')\n",
    "        links.append(link)"
   ]
  },
  {
   "cell_type": "markdown",
   "id": "ce830900",
   "metadata": {},
   "source": [
    "### Датафрейм для сохранения данных"
   ]
  },
  {
   "cell_type": "code",
   "execution_count": 89,
   "id": "51d319fc",
   "metadata": {},
   "outputs": [],
   "source": [
    "data = pd.DataFrame(columns=['name', 'author', 'link',\n",
    "                            'rating', 'rating_count','review_count',\n",
    "                            'pages_count', 'price',\n",
    "                            'text_reviews', 'age', 'year'])"
   ]
  },
  {
   "cell_type": "markdown",
   "id": "56eb9b4e",
   "metadata": {},
   "source": [
    "### Парсер данных"
   ]
  },
  {
   "cell_type": "code",
   "execution_count": 90,
   "id": "944d7ee9",
   "metadata": {},
   "outputs": [
    {
     "name": "stderr",
     "output_type": "stream",
     "text": [
      "100%|█████████████████████████████████████| 2851/2851 [1:14:43<00:00,  1.57s/it]\n"
     ]
    }
   ],
   "source": [
    "missed_books_index = []\n",
    "for i in tqdm(np.arange(len(links))):\n",
    "    try:\n",
    "        book_link = links[i]                      \n",
    "        response = requests.get(book_link)\n",
    "        html = response.content\n",
    "        soup = BeautifulSoup(html, 'html.parser')\n",
    "        name = soup.find('h1', attrs = {'class':'BookCard_book__mainInfo__title___nFS4'}).text\n",
    "        auth = soup.find('div', attrs = {'class':'Truncate_truncated__jKdVt'}).find('span').text\n",
    "        link = book_link\n",
    "        rating = float(soup\n",
    "         .find_all('div', class_=re.compile('rating'))[0]\n",
    "         .find('meta',attrs = {'itemprop':'ratingValue'}).get('content'))\n",
    "        r_count = int(soup\n",
    "         .find_all('div', class_=re.compile('rating'))[0]\n",
    "         .find('meta',attrs = {'itemprop':'ratingCount'}).get('content'))\n",
    "        try:\n",
    "            rev_c = int(soup.find('span', attrs = {'class': 'CommentSystem_commentsCount__woGh3'}).text)\n",
    "        except:\n",
    "            rev_c = 0\n",
    "        p_c = int(soup.find('div', attrs = {'class': 'BookCard_book__preview__data__XjF_j'}).find_all('p')[0].text.split(' ')[1])\n",
    "        if len(soup.find_all('div', class_='SaleBlock_block__price__pC6XL')) == 1:\n",
    "            price = soup.find_all('div', class_='SaleBlock_block__price__pC6XL')[0].text\n",
    "        else:\n",
    "            price = soup.find_all('div', class_='SaleBlock_block__price__pC6XL')[1].text\n",
    "        obj = soup.find_all('div', attrs = {'class':'Comment_reviewText__PEkHn'})\n",
    "        text_r = []\n",
    "        for j in np.arange(len(obj)):\n",
    "            text_r.append(obj[j].text)\n",
    "        age = soup.find_all('div', attrs = {'class': 'CharacteristicsBlock_characteristic__4pi7v'})[0].find_all('span')[1].text.strip('+')\n",
    "        obj1 = soup.find_all('div', attrs = {'class': 'CharacteristicsBlock_characteristic__4pi7v'})\n",
    "        if obj1[2].find_all('span')[0].text == 'Дата написания: ':\n",
    "            year = obj1[2].find_all('span')[1].text\n",
    "        elif obj1[3].find_all('span')[0].text == 'Дата написания: ':\n",
    "            year = obj1[3].find_all('span')[1].text\n",
    "        else:\n",
    "            year = None\n",
    "        row = [name, auth, link, rating, r_count, rev_c,\n",
    "              p_c, price, text_r, age, year]\n",
    "        data.loc[i] = row\n",
    "        time.sleep(1)\n",
    "    except:\n",
    "        missed_books_index.append(i)"
   ]
  },
  {
   "cell_type": "code",
   "execution_count": 92,
   "id": "471f53ef",
   "metadata": {},
   "outputs": [
    {
     "name": "stdout",
     "output_type": "stream",
     "text": [
      "<class 'pandas.core.frame.DataFrame'>\n",
      "Int64Index: 2534 entries, 0 to 2850\n",
      "Data columns (total 11 columns):\n",
      " #   Column        Non-Null Count  Dtype  \n",
      "---  ------        --------------  -----  \n",
      " 0   name          2534 non-null   object \n",
      " 1   author        2534 non-null   object \n",
      " 2   link          2534 non-null   object \n",
      " 3   rating        2534 non-null   float64\n",
      " 4   rating_count  2534 non-null   int64  \n",
      " 5   review_count  2534 non-null   int64  \n",
      " 6   pages_count   2534 non-null   int64  \n",
      " 7   price         2534 non-null   object \n",
      " 8   text_reviews  2534 non-null   object \n",
      " 9   age           2534 non-null   object \n",
      " 10  year          1976 non-null   object \n",
      "dtypes: float64(1), int64(3), object(7)\n",
      "memory usage: 237.6+ KB\n"
     ]
    }
   ],
   "source": [
    "data.info()"
   ]
  },
  {
   "cell_type": "code",
   "execution_count": 93,
   "id": "dab165bf",
   "metadata": {},
   "outputs": [],
   "source": [
    "data1 = data.copy()"
   ]
  },
  {
   "cell_type": "code",
   "execution_count": 111,
   "id": "4d480584",
   "metadata": {},
   "outputs": [],
   "source": [
    "data1.price = (data.price.str\n",
    "               .replace('\\xa0₽', '', regex=True)\n",
    "               .replace(',', '.', regex=True)\n",
    "               .replace('\\xa0', '', regex=True)\n",
    "               .replace('599.20749−20%', '599.20', regex=True)\n",
    "               .replace('575.10639−10%', '640.0', regex=True)\n",
    "              .astype(float))"
   ]
  },
  {
   "cell_type": "code",
   "execution_count": 113,
   "id": "e1693cf2",
   "metadata": {},
   "outputs": [],
   "source": [
    "data1.reset_index(inplace=True)"
   ]
  },
  {
   "cell_type": "code",
   "execution_count": 114,
   "id": "35cc9fe6",
   "metadata": {},
   "outputs": [],
   "source": [
    "data1.to_csv('litresdata.csv')"
   ]
  },
  {
   "cell_type": "markdown",
   "id": "d8c72198",
   "metadata": {},
   "source": [
    "## Часть 2. EDA"
   ]
  },
  {
   "cell_type": "code",
   "execution_count": 36,
   "id": "e3c22d68",
   "metadata": {},
   "outputs": [],
   "source": [
    "df = pd.read_csv('litresdata.csv', index_col='index')\n",
    "df = df.drop(columns=['Unnamed: 0'])\n",
    "df.reset_index(inplace=True, drop=True)"
   ]
  },
  {
   "cell_type": "markdown",
   "id": "749b9151",
   "metadata": {},
   "source": [
    "1. Выведите первые 5 строк датасета. (0.25). Сколько в нём строк и столбцов (0.25)?"
   ]
  },
  {
   "cell_type": "code",
   "execution_count": 37,
   "id": "a2b41ba5",
   "metadata": {},
   "outputs": [
    {
     "name": "stdout",
     "output_type": "stream",
     "text": [
      "(2534, 11)\n"
     ]
    },
    {
     "data": {
      "text/html": [
       "<div>\n",
       "<style scoped>\n",
       "    .dataframe tbody tr th:only-of-type {\n",
       "        vertical-align: middle;\n",
       "    }\n",
       "\n",
       "    .dataframe tbody tr th {\n",
       "        vertical-align: top;\n",
       "    }\n",
       "\n",
       "    .dataframe thead th {\n",
       "        text-align: right;\n",
       "    }\n",
       "</style>\n",
       "<table border=\"1\" class=\"dataframe\">\n",
       "  <thead>\n",
       "    <tr style=\"text-align: right;\">\n",
       "      <th></th>\n",
       "      <th>name</th>\n",
       "      <th>author</th>\n",
       "      <th>link</th>\n",
       "      <th>rating</th>\n",
       "      <th>rating_count</th>\n",
       "      <th>review_count</th>\n",
       "      <th>pages_count</th>\n",
       "      <th>price</th>\n",
       "      <th>text_reviews</th>\n",
       "      <th>age</th>\n",
       "      <th>year</th>\n",
       "    </tr>\n",
       "  </thead>\n",
       "  <tbody>\n",
       "    <tr>\n",
       "      <th>0</th>\n",
       "      <td>Изучаем DDD – предметно-ориентированное проект...</td>\n",
       "      <td>Влад Хононов</td>\n",
       "      <td>https://www.litres.ru/book/vlad-hononov/izucha...</td>\n",
       "      <td>0.0</td>\n",
       "      <td>0</td>\n",
       "      <td>1</td>\n",
       "      <td>319</td>\n",
       "      <td>549.0</td>\n",
       "      <td>['Обязательно вернусь, но позжеЭта книга из то...</td>\n",
       "      <td>0</td>\n",
       "      <td>2022.0</td>\n",
       "    </tr>\n",
       "    <tr>\n",
       "      <th>1</th>\n",
       "      <td>Высоконагруженные приложения. Программирование...</td>\n",
       "      <td>Мартин Клеппман</td>\n",
       "      <td>https://www.litres.ru/book/martin-kleppman-173...</td>\n",
       "      <td>4.0</td>\n",
       "      <td>51</td>\n",
       "      <td>11</td>\n",
       "      <td>640</td>\n",
       "      <td>799.0</td>\n",
       "      <td>['Не могу что-либо про перевод сказать, читал ...</td>\n",
       "      <td>16</td>\n",
       "      <td>2017.0</td>\n",
       "    </tr>\n",
       "    <tr>\n",
       "      <th>2</th>\n",
       "      <td>Начинаем программировать на Python</td>\n",
       "      <td>Тони Гэддис</td>\n",
       "      <td>https://www.litres.ru/book/toni-geddis-3249116...</td>\n",
       "      <td>5.0</td>\n",
       "      <td>16</td>\n",
       "      <td>6</td>\n",
       "      <td>875</td>\n",
       "      <td>599.0</td>\n",
       "      <td>['Шикарная книга! Начал изучать Python самосто...</td>\n",
       "      <td>12</td>\n",
       "      <td>2021.0</td>\n",
       "    </tr>\n",
       "    <tr>\n",
       "      <th>3</th>\n",
       "      <td>System Design. Подготовка к сложному интервью</td>\n",
       "      <td>Алекс Сюй</td>\n",
       "      <td>https://www.litres.ru/book/aleks-suy/system-de...</td>\n",
       "      <td>3.6</td>\n",
       "      <td>17</td>\n",
       "      <td>9</td>\n",
       "      <td>304</td>\n",
       "      <td>699.0</td>\n",
       "      <td>['Добротная книга по разработке архитектуры пр...</td>\n",
       "      <td>16</td>\n",
       "      <td>2020.0</td>\n",
       "    </tr>\n",
       "    <tr>\n",
       "      <th>4</th>\n",
       "      <td>Нейросети начало</td>\n",
       "      <td>Джейд Картер</td>\n",
       "      <td>https://www.litres.ru/book/dzheyd-karter/neyro...</td>\n",
       "      <td>4.9</td>\n",
       "      <td>439</td>\n",
       "      <td>37</td>\n",
       "      <td>102</td>\n",
       "      <td>690.0</td>\n",
       "      <td>['Книга отличная. Давно хотела понять как все ...</td>\n",
       "      <td>12</td>\n",
       "      <td>2023.0</td>\n",
       "    </tr>\n",
       "  </tbody>\n",
       "</table>\n",
       "</div>"
      ],
      "text/plain": [
       "                                                name           author  \\\n",
       "0  Изучаем DDD – предметно-ориентированное проект...     Влад Хононов   \n",
       "1  Высоконагруженные приложения. Программирование...  Мартин Клеппман   \n",
       "2                 Начинаем программировать на Python      Тони Гэддис   \n",
       "3      System Design. Подготовка к сложному интервью        Алекс Сюй   \n",
       "4                                   Нейросети начало     Джейд Картер   \n",
       "\n",
       "                                                link  rating  rating_count  \\\n",
       "0  https://www.litres.ru/book/vlad-hononov/izucha...     0.0             0   \n",
       "1  https://www.litres.ru/book/martin-kleppman-173...     4.0            51   \n",
       "2  https://www.litres.ru/book/toni-geddis-3249116...     5.0            16   \n",
       "3  https://www.litres.ru/book/aleks-suy/system-de...     3.6            17   \n",
       "4  https://www.litres.ru/book/dzheyd-karter/neyro...     4.9           439   \n",
       "\n",
       "   review_count  pages_count  price  \\\n",
       "0             1          319  549.0   \n",
       "1            11          640  799.0   \n",
       "2             6          875  599.0   \n",
       "3             9          304  699.0   \n",
       "4            37          102  690.0   \n",
       "\n",
       "                                        text_reviews age    year  \n",
       "0  ['Обязательно вернусь, но позжеЭта книга из то...   0  2022.0  \n",
       "1  ['Не могу что-либо про перевод сказать, читал ...  16  2017.0  \n",
       "2  ['Шикарная книга! Начал изучать Python самосто...  12  2021.0  \n",
       "3  ['Добротная книга по разработке архитектуры пр...  16  2020.0  \n",
       "4  ['Книга отличная. Давно хотела понять как все ...  12  2023.0  "
      ]
     },
     "execution_count": 37,
     "metadata": {},
     "output_type": "execute_result"
    }
   ],
   "source": [
    "print(df.shape)\n",
    "df.head()"
   ]
  },
  {
   "cell_type": "markdown",
   "id": "555f7acf",
   "metadata": {},
   "source": [
    "В датасете имеется 2534 строки и 11 стобцов"
   ]
  },
  {
   "cell_type": "markdown",
   "id": "203ef277",
   "metadata": {},
   "source": [
    "2. Есть ли в датасете пропуски? (0.5)"
   ]
  },
  {
   "cell_type": "code",
   "execution_count": 38,
   "id": "91473212",
   "metadata": {},
   "outputs": [
    {
     "name": "stdout",
     "output_type": "stream",
     "text": [
      "<class 'pandas.core.frame.DataFrame'>\n",
      "RangeIndex: 2534 entries, 0 to 2533\n",
      "Data columns (total 11 columns):\n",
      " #   Column        Non-Null Count  Dtype  \n",
      "---  ------        --------------  -----  \n",
      " 0   name          2534 non-null   object \n",
      " 1   author        2534 non-null   object \n",
      " 2   link          2534 non-null   object \n",
      " 3   rating        2534 non-null   float64\n",
      " 4   rating_count  2534 non-null   int64  \n",
      " 5   review_count  2534 non-null   int64  \n",
      " 6   pages_count   2534 non-null   int64  \n",
      " 7   price         2534 non-null   float64\n",
      " 8   text_reviews  2534 non-null   object \n",
      " 9   age           2534 non-null   object \n",
      " 10  year          1976 non-null   float64\n",
      "dtypes: float64(3), int64(3), object(5)\n",
      "memory usage: 217.9+ KB\n"
     ]
    }
   ],
   "source": [
    "df.info()"
   ]
  },
  {
   "cell_type": "code",
   "execution_count": 39,
   "id": "3ad314c2",
   "metadata": {},
   "outputs": [
    {
     "data": {
      "text/plain": [
       "name              0\n",
       "author            0\n",
       "link              0\n",
       "rating            0\n",
       "rating_count      0\n",
       "review_count      0\n",
       "pages_count       0\n",
       "price             0\n",
       "text_reviews      0\n",
       "age               0\n",
       "year            558\n",
       "dtype: int64"
      ]
     },
     "execution_count": 39,
     "metadata": {},
     "output_type": "execute_result"
    }
   ],
   "source": [
    "df.isna().sum()"
   ]
  },
  {
   "cell_type": "markdown",
   "id": "771f2ca4",
   "metadata": {},
   "source": [
    "В датасете имеется 558 пропусков с данными по году написания"
   ]
  },
  {
   "cell_type": "markdown",
   "id": "17784516",
   "metadata": {},
   "source": [
    "3.Проверьте типы данных. Если это необходимо, приведите к типам int и float те столбцы, с которыми понадобится работать как с числами. (1)."
   ]
  },
  {
   "cell_type": "code",
   "execution_count": 40,
   "id": "cd717144",
   "metadata": {},
   "outputs": [
    {
     "data": {
      "text/plain": [
       "name             object\n",
       "author           object\n",
       "link             object\n",
       "rating          float64\n",
       "rating_count      int64\n",
       "review_count      int64\n",
       "pages_count       int64\n",
       "price           float64\n",
       "text_reviews     object\n",
       "age              object\n",
       "year            float64\n",
       "dtype: object"
      ]
     },
     "execution_count": 40,
     "metadata": {},
     "output_type": "execute_result"
    }
   ],
   "source": [
    "df.dtypes"
   ]
  },
  {
   "cell_type": "code",
   "execution_count": 41,
   "id": "7c7eba4a",
   "metadata": {},
   "outputs": [],
   "source": [
    "df.age = (df.age.str.replace('26 из ~57', '12', regex=True)\n",
    "         .replace('670 из ~150', '12', regex=True))"
   ]
  },
  {
   "cell_type": "code",
   "execution_count": 48,
   "id": "10f37af8",
   "metadata": {},
   "outputs": [],
   "source": [
    "df.age = df.age.astype(str)\n",
    "df.year = df.year.astype(str)"
   ]
  },
  {
   "cell_type": "markdown",
   "id": "c2841c1a",
   "metadata": {},
   "source": [
    "4. Выведите описательные статистики переменных. Ответьте на следующие вопросы:\n",
    "- Какая медианная цена книги в вашем датасете? (1)\n",
    "- Какое возрастное ограничение встречается чаще всего? (1)\n",
    "- Какое среднее число отзывов в книге? (1)\n",
    "- Сколько книг имеют оценку ниже 4.25? (1)\n",
    "- В каком году было написано больше всего книг из датасета? (1)"
   ]
  },
  {
   "cell_type": "code",
   "execution_count": 51,
   "id": "cc30526c",
   "metadata": {},
   "outputs": [
    {
     "data": {
      "text/html": [
       "<div>\n",
       "<style scoped>\n",
       "    .dataframe tbody tr th:only-of-type {\n",
       "        vertical-align: middle;\n",
       "    }\n",
       "\n",
       "    .dataframe tbody tr th {\n",
       "        vertical-align: top;\n",
       "    }\n",
       "\n",
       "    .dataframe thead th {\n",
       "        text-align: right;\n",
       "    }\n",
       "</style>\n",
       "<table border=\"1\" class=\"dataframe\">\n",
       "  <thead>\n",
       "    <tr style=\"text-align: right;\">\n",
       "      <th></th>\n",
       "      <th>rating</th>\n",
       "      <th>rating_count</th>\n",
       "      <th>review_count</th>\n",
       "      <th>pages_count</th>\n",
       "      <th>price</th>\n",
       "    </tr>\n",
       "  </thead>\n",
       "  <tbody>\n",
       "    <tr>\n",
       "      <th>count</th>\n",
       "      <td>2534.000000</td>\n",
       "      <td>2534.000000</td>\n",
       "      <td>2534.000000</td>\n",
       "      <td>2534.000000</td>\n",
       "      <td>2534.000000</td>\n",
       "    </tr>\n",
       "    <tr>\n",
       "      <th>mean</th>\n",
       "      <td>2.481018</td>\n",
       "      <td>7.106551</td>\n",
       "      <td>1.242699</td>\n",
       "      <td>335.012628</td>\n",
       "      <td>1425.752135</td>\n",
       "    </tr>\n",
       "    <tr>\n",
       "      <th>std</th>\n",
       "      <td>2.127763</td>\n",
       "      <td>25.894478</td>\n",
       "      <td>2.811750</td>\n",
       "      <td>260.384821</td>\n",
       "      <td>3218.356614</td>\n",
       "    </tr>\n",
       "    <tr>\n",
       "      <th>min</th>\n",
       "      <td>0.000000</td>\n",
       "      <td>0.000000</td>\n",
       "      <td>0.000000</td>\n",
       "      <td>2.000000</td>\n",
       "      <td>40.000000</td>\n",
       "    </tr>\n",
       "    <tr>\n",
       "      <th>25%</th>\n",
       "      <td>0.000000</td>\n",
       "      <td>0.000000</td>\n",
       "      <td>0.000000</td>\n",
       "      <td>129.000000</td>\n",
       "      <td>168.000000</td>\n",
       "    </tr>\n",
       "    <tr>\n",
       "      <th>50%</th>\n",
       "      <td>3.400000</td>\n",
       "      <td>1.000000</td>\n",
       "      <td>0.000000</td>\n",
       "      <td>313.000000</td>\n",
       "      <td>389.000000</td>\n",
       "    </tr>\n",
       "    <tr>\n",
       "      <th>75%</th>\n",
       "      <td>4.500000</td>\n",
       "      <td>5.000000</td>\n",
       "      <td>1.000000</td>\n",
       "      <td>466.000000</td>\n",
       "      <td>699.000000</td>\n",
       "    </tr>\n",
       "    <tr>\n",
       "      <th>max</th>\n",
       "      <td>5.000000</td>\n",
       "      <td>439.000000</td>\n",
       "      <td>41.000000</td>\n",
       "      <td>1588.000000</td>\n",
       "      <td>31687.580000</td>\n",
       "    </tr>\n",
       "  </tbody>\n",
       "</table>\n",
       "</div>"
      ],
      "text/plain": [
       "            rating  rating_count  review_count  pages_count         price\n",
       "count  2534.000000   2534.000000   2534.000000  2534.000000   2534.000000\n",
       "mean      2.481018      7.106551      1.242699   335.012628   1425.752135\n",
       "std       2.127763     25.894478      2.811750   260.384821   3218.356614\n",
       "min       0.000000      0.000000      0.000000     2.000000     40.000000\n",
       "25%       0.000000      0.000000      0.000000   129.000000    168.000000\n",
       "50%       3.400000      1.000000      0.000000   313.000000    389.000000\n",
       "75%       4.500000      5.000000      1.000000   466.000000    699.000000\n",
       "max       5.000000    439.000000     41.000000  1588.000000  31687.580000"
      ]
     },
     "execution_count": 51,
     "metadata": {},
     "output_type": "execute_result"
    }
   ],
   "source": [
    "df.describe()"
   ]
  },
  {
   "cell_type": "code",
   "execution_count": 50,
   "id": "aa9b69af",
   "metadata": {},
   "outputs": [
    {
     "data": {
      "text/html": [
       "<div>\n",
       "<style scoped>\n",
       "    .dataframe tbody tr th:only-of-type {\n",
       "        vertical-align: middle;\n",
       "    }\n",
       "\n",
       "    .dataframe tbody tr th {\n",
       "        vertical-align: top;\n",
       "    }\n",
       "\n",
       "    .dataframe thead th {\n",
       "        text-align: right;\n",
       "    }\n",
       "</style>\n",
       "<table border=\"1\" class=\"dataframe\">\n",
       "  <thead>\n",
       "    <tr style=\"text-align: right;\">\n",
       "      <th></th>\n",
       "      <th>author</th>\n",
       "      <th>age</th>\n",
       "      <th>year</th>\n",
       "    </tr>\n",
       "  </thead>\n",
       "  <tbody>\n",
       "    <tr>\n",
       "      <th>count</th>\n",
       "      <td>2534</td>\n",
       "      <td>2534</td>\n",
       "      <td>2534</td>\n",
       "    </tr>\n",
       "    <tr>\n",
       "      <th>unique</th>\n",
       "      <td>1811</td>\n",
       "      <td>5</td>\n",
       "      <td>31</td>\n",
       "    </tr>\n",
       "    <tr>\n",
       "      <th>top</th>\n",
       "      <td>Владимир Дронов</td>\n",
       "      <td>0</td>\n",
       "      <td>nan</td>\n",
       "    </tr>\n",
       "    <tr>\n",
       "      <th>freq</th>\n",
       "      <td>27</td>\n",
       "      <td>1934</td>\n",
       "      <td>558</td>\n",
       "    </tr>\n",
       "  </tbody>\n",
       "</table>\n",
       "</div>"
      ],
      "text/plain": [
       "                 author   age  year\n",
       "count              2534  2534  2534\n",
       "unique             1811     5    31\n",
       "top     Владимир Дронов     0   nan\n",
       "freq                 27  1934   558"
      ]
     },
     "execution_count": 50,
     "metadata": {},
     "output_type": "execute_result"
    }
   ],
   "source": [
    "df[['author', 'age','year']].describe(include='object')"
   ]
  },
  {
   "cell_type": "code",
   "execution_count": 55,
   "id": "1cd9ea88",
   "metadata": {},
   "outputs": [
    {
     "data": {
      "text/plain": [
       "Владимир Дронов      27\n",
       "Никита Культин       26\n",
       "Джейд Картер         16\n",
       "Тимур Машнин         15\n",
       "коллектив авторов    15\n",
       "Name: author, dtype: int64"
      ]
     },
     "execution_count": 55,
     "metadata": {},
     "output_type": "execute_result"
    }
   ],
   "source": [
    "df.author.value_counts()[:5]"
   ]
  },
  {
   "cell_type": "code",
   "execution_count": 56,
   "id": "30880784",
   "metadata": {},
   "outputs": [
    {
     "data": {
      "text/plain": [
       "0     1934\n",
       "12     299\n",
       "16     255\n",
       "6       40\n",
       "18       6\n",
       "Name: age, dtype: int64"
      ]
     },
     "execution_count": 56,
     "metadata": {},
     "output_type": "execute_result"
    }
   ],
   "source": [
    "df.age.value_counts()[:5]"
   ]
  },
  {
   "cell_type": "code",
   "execution_count": 57,
   "id": "066a0acb",
   "metadata": {},
   "outputs": [
    {
     "data": {
      "text/plain": [
       "nan       558\n",
       "2021.0    170\n",
       "2023.0    149\n",
       "2022.0    130\n",
       "2020.0    125\n",
       "Name: year, dtype: int64"
      ]
     },
     "execution_count": 57,
     "metadata": {},
     "output_type": "execute_result"
    }
   ],
   "source": [
    "df.year.value_counts()[:5]"
   ]
  },
  {
   "cell_type": "code",
   "execution_count": 58,
   "id": "d692f15d",
   "metadata": {},
   "outputs": [
    {
     "data": {
      "text/plain": [
       "1765"
      ]
     },
     "execution_count": 58,
     "metadata": {},
     "output_type": "execute_result"
    }
   ],
   "source": [
    "(df.rating < 4.25).sum()"
   ]
  },
  {
   "cell_type": "markdown",
   "id": "85b63111",
   "metadata": {},
   "source": [
    "- Медианная цена: 389\n",
    "- Наиболе часто встречается ограничение: 0+\n",
    "- Среднее число отзывов: 1.242699\n",
    "- 1765 книг имееют рейтинг ниже 4.25\n",
    "- В 2021 году написано набольшее количество книг из датасета"
   ]
  },
  {
   "cell_type": "markdown",
   "id": "fab28bfd",
   "metadata": {},
   "source": [
    "5. Если вы работаете с готовым датасетом, то попробуйте \"достать\" из столбца pages количество страниц. Если у вас не получилось, то далее при определении числа страниц пользуйтесь стольцов pages_count. Если вы парсили датасет сами, то вы получаете балл за этот пункт автоматически (1.5)"
   ]
  },
  {
   "cell_type": "markdown",
   "id": "b5622eb1",
   "metadata": {},
   "source": [
    "Датасет парсился"
   ]
  },
  {
   "cell_type": "markdown",
   "id": "09741265",
   "metadata": {},
   "source": [
    "6. Создайте новое поле is_popular. Значение равно 1, если рейтинг книги не менее 4.6 и при этом у нее не менее 5 отзывов, и 0 в остальных случаях. (1)"
   ]
  },
  {
   "cell_type": "code",
   "execution_count": 63,
   "id": "ead871f1",
   "metadata": {},
   "outputs": [],
   "source": [
    "df['is_popular'] = (df.rating > 4.6)&(df.review_count >= 5)\n",
    "df.is_popular = df.is_popular.astype(int)"
   ]
  },
  {
   "cell_type": "markdown",
   "id": "37e07a36",
   "metadata": {},
   "source": [
    "7. Как отличается среднее число страниц среди популярных и непопулярных книг? (2)"
   ]
  },
  {
   "cell_type": "code",
   "execution_count": 71,
   "id": "12a3cb59",
   "metadata": {},
   "outputs": [],
   "source": [
    "a = df[df.is_popular == 1].pages_count.mean()"
   ]
  },
  {
   "cell_type": "code",
   "execution_count": 72,
   "id": "1631cd3a",
   "metadata": {},
   "outputs": [],
   "source": [
    "b = df[df.is_popular == 0].pages_count.mean()"
   ]
  },
  {
   "cell_type": "code",
   "execution_count": 75,
   "id": "862710e0",
   "metadata": {},
   "outputs": [
    {
     "data": {
      "text/plain": [
       "8"
      ]
     },
     "execution_count": 75,
     "metadata": {},
     "output_type": "execute_result"
    }
   ],
   "source": [
    "round((a/b - 1)*100)"
   ]
  },
  {
   "cell_type": "markdown",
   "id": "a7a1ccf5",
   "metadata": {},
   "source": [
    "У популярных книг на 8% больше страниц. Однако их число в датасете крайне малочисленно"
   ]
  },
  {
   "cell_type": "markdown",
   "id": "143c52cd",
   "metadata": {},
   "source": [
    "8. Выведите топ-10 книг по числу отзывов. (2)."
   ]
  },
  {
   "cell_type": "code",
   "execution_count": 81,
   "id": "8945c62a",
   "metadata": {},
   "outputs": [
    {
     "data": {
      "text/html": [
       "<div>\n",
       "<style scoped>\n",
       "    .dataframe tbody tr th:only-of-type {\n",
       "        vertical-align: middle;\n",
       "    }\n",
       "\n",
       "    .dataframe tbody tr th {\n",
       "        vertical-align: top;\n",
       "    }\n",
       "\n",
       "    .dataframe thead th {\n",
       "        text-align: right;\n",
       "    }\n",
       "</style>\n",
       "<table border=\"1\" class=\"dataframe\">\n",
       "  <thead>\n",
       "    <tr style=\"text-align: right;\">\n",
       "      <th></th>\n",
       "      <th>name</th>\n",
       "    </tr>\n",
       "  </thead>\n",
       "  <tbody>\n",
       "    <tr>\n",
       "      <th>419</th>\n",
       "      <td>Оптимизация в Python</td>\n",
       "    </tr>\n",
       "    <tr>\n",
       "      <th>4</th>\n",
       "      <td>Нейросети начало</td>\n",
       "    </tr>\n",
       "    <tr>\n",
       "      <th>200</th>\n",
       "      <td>Психбольница в руках пациентов. Алан Купер об ...</td>\n",
       "    </tr>\n",
       "    <tr>\n",
       "      <th>120</th>\n",
       "      <td>Теоретический минимум по Computer Science. Все...</td>\n",
       "    </tr>\n",
       "    <tr>\n",
       "      <th>327</th>\n",
       "      <td>Идеальный программист. Как стать профессионало...</td>\n",
       "    </tr>\n",
       "    <tr>\n",
       "      <th>450</th>\n",
       "      <td>Говорят, в IT много платят. Как построить успе...</td>\n",
       "    </tr>\n",
       "    <tr>\n",
       "      <th>146</th>\n",
       "      <td>#Сам себе программист. Как научиться программи...</td>\n",
       "    </tr>\n",
       "    <tr>\n",
       "      <th>39</th>\n",
       "      <td>Сделай видеоигру один и не свихнись</td>\n",
       "    </tr>\n",
       "    <tr>\n",
       "      <th>56</th>\n",
       "      <td>Как пасти котов. Наставление для программистов...</td>\n",
       "    </tr>\n",
       "    <tr>\n",
       "      <th>141</th>\n",
       "      <td>Экстремальное программирование. Разработка чер...</td>\n",
       "    </tr>\n",
       "  </tbody>\n",
       "</table>\n",
       "</div>"
      ],
      "text/plain": [
       "                                                  name\n",
       "419                               Оптимизация в Python\n",
       "4                                     Нейросети начало\n",
       "200  Психбольница в руках пациентов. Алан Купер об ...\n",
       "120  Теоретический минимум по Computer Science. Все...\n",
       "327  Идеальный программист. Как стать профессионало...\n",
       "450  Говорят, в IT много платят. Как построить успе...\n",
       "146  #Сам себе программист. Как научиться программи...\n",
       "39                 Сделай видеоигру один и не свихнись\n",
       "56   Как пасти котов. Наставление для программистов...\n",
       "141  Экстремальное программирование. Разработка чер..."
      ]
     },
     "execution_count": 81,
     "metadata": {},
     "output_type": "execute_result"
    }
   ],
   "source": [
    "df.sort_values(by = 'review_count', ascending=False)[['name']].head(10)"
   ]
  },
  {
   "cell_type": "markdown",
   "id": "34f0147b",
   "metadata": {},
   "source": [
    "9. Найдите среднюю длину отзыва (в символах). \n",
    "(Не смог сделать, т.к. не собрал все возможные отзывы)"
   ]
  },
  {
   "cell_type": "markdown",
   "id": "bb462618",
   "metadata": {},
   "source": [
    "10. Постройте таблицу корреляций числовых переменных. (1) Прокомментируйте результаты. (1)"
   ]
  },
  {
   "cell_type": "code",
   "execution_count": 82,
   "id": "91ca7102",
   "metadata": {},
   "outputs": [
    {
     "name": "stderr",
     "output_type": "stream",
     "text": [
      "/var/folders/yp/blf1pq316cv6y1tkcp2lpn0c0000gn/T/ipykernel_44806/1134722465.py:1: FutureWarning: The default value of numeric_only in DataFrame.corr is deprecated. In a future version, it will default to False. Select only valid columns or specify the value of numeric_only to silence this warning.\n",
      "  df.corr()\n"
     ]
    },
    {
     "data": {
      "text/html": [
       "<div>\n",
       "<style scoped>\n",
       "    .dataframe tbody tr th:only-of-type {\n",
       "        vertical-align: middle;\n",
       "    }\n",
       "\n",
       "    .dataframe tbody tr th {\n",
       "        vertical-align: top;\n",
       "    }\n",
       "\n",
       "    .dataframe thead th {\n",
       "        text-align: right;\n",
       "    }\n",
       "</style>\n",
       "<table border=\"1\" class=\"dataframe\">\n",
       "  <thead>\n",
       "    <tr style=\"text-align: right;\">\n",
       "      <th></th>\n",
       "      <th>rating</th>\n",
       "      <th>rating_count</th>\n",
       "      <th>review_count</th>\n",
       "      <th>pages_count</th>\n",
       "      <th>price</th>\n",
       "      <th>is_popular</th>\n",
       "    </tr>\n",
       "  </thead>\n",
       "  <tbody>\n",
       "    <tr>\n",
       "      <th>rating</th>\n",
       "      <td>1.000000</td>\n",
       "      <td>0.238950</td>\n",
       "      <td>0.350593</td>\n",
       "      <td>0.189762</td>\n",
       "      <td>-0.278476</td>\n",
       "      <td>0.129759</td>\n",
       "    </tr>\n",
       "    <tr>\n",
       "      <th>rating_count</th>\n",
       "      <td>0.238950</td>\n",
       "      <td>1.000000</td>\n",
       "      <td>0.687595</td>\n",
       "      <td>0.037633</td>\n",
       "      <td>-0.073984</td>\n",
       "      <td>0.606725</td>\n",
       "    </tr>\n",
       "    <tr>\n",
       "      <th>review_count</th>\n",
       "      <td>0.350593</td>\n",
       "      <td>0.687595</td>\n",
       "      <td>1.000000</td>\n",
       "      <td>0.089686</td>\n",
       "      <td>-0.126599</td>\n",
       "      <td>0.388756</td>\n",
       "    </tr>\n",
       "    <tr>\n",
       "      <th>pages_count</th>\n",
       "      <td>0.189762</td>\n",
       "      <td>0.037633</td>\n",
       "      <td>0.089686</td>\n",
       "      <td>1.000000</td>\n",
       "      <td>0.227830</td>\n",
       "      <td>0.011493</td>\n",
       "    </tr>\n",
       "    <tr>\n",
       "      <th>price</th>\n",
       "      <td>-0.278476</td>\n",
       "      <td>-0.073984</td>\n",
       "      <td>-0.126599</td>\n",
       "      <td>0.227830</td>\n",
       "      <td>1.000000</td>\n",
       "      <td>-0.028902</td>\n",
       "    </tr>\n",
       "    <tr>\n",
       "      <th>is_popular</th>\n",
       "      <td>0.129759</td>\n",
       "      <td>0.606725</td>\n",
       "      <td>0.388756</td>\n",
       "      <td>0.011493</td>\n",
       "      <td>-0.028902</td>\n",
       "      <td>1.000000</td>\n",
       "    </tr>\n",
       "  </tbody>\n",
       "</table>\n",
       "</div>"
      ],
      "text/plain": [
       "                rating  rating_count  review_count  pages_count     price  \\\n",
       "rating        1.000000      0.238950      0.350593     0.189762 -0.278476   \n",
       "rating_count  0.238950      1.000000      0.687595     0.037633 -0.073984   \n",
       "review_count  0.350593      0.687595      1.000000     0.089686 -0.126599   \n",
       "pages_count   0.189762      0.037633      0.089686     1.000000  0.227830   \n",
       "price        -0.278476     -0.073984     -0.126599     0.227830  1.000000   \n",
       "is_popular    0.129759      0.606725      0.388756     0.011493 -0.028902   \n",
       "\n",
       "              is_popular  \n",
       "rating          0.129759  \n",
       "rating_count    0.606725  \n",
       "review_count    0.388756  \n",
       "pages_count     0.011493  \n",
       "price          -0.028902  \n",
       "is_popular      1.000000  "
      ]
     },
     "execution_count": 82,
     "metadata": {},
     "output_type": "execute_result"
    }
   ],
   "source": [
    "df.corr()"
   ]
  },
  {
   "cell_type": "markdown",
   "id": "c89339b5",
   "metadata": {},
   "source": [
    "В датасете не обнаружено особо сильных корреляций числовых переменных помимо очевидных (таких как корреляция количества оценок и отзывов). Из забавного, цена отрицательно коррелирует с рейтингом."
   ]
  },
  {
   "cell_type": "markdown",
   "id": "721d7401",
   "metadata": {},
   "source": [
    "На этом с заданиями все, так как не успеваю к дедлайну. Позже обновлю страницу доделанным заданием, но уже просто для себя)))"
   ]
  }
 ],
 "metadata": {
  "kernelspec": {
   "display_name": "Python 3 (ipykernel)",
   "language": "python",
   "name": "python3"
  },
  "language_info": {
   "codemirror_mode": {
    "name": "ipython",
    "version": 3
   },
   "file_extension": ".py",
   "mimetype": "text/x-python",
   "name": "python",
   "nbconvert_exporter": "python",
   "pygments_lexer": "ipython3",
   "version": "3.9.13"
  }
 },
 "nbformat": 4,
 "nbformat_minor": 5
}
